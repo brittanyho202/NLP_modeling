{
 "cells": [
  {
   "cell_type": "code",
   "execution_count": 22,
   "id": "0250c5b1",
   "metadata": {},
   "outputs": [],
   "source": [
    "import requests\n",
    "from bs4 import BeautifulSoup\n",
    "import csv\n",
    "\n",
    "url = \"https://www.ratemyprofessors.com/professor/1569137\"\n",
    "\n",
    "# Send a GET request to the URL and get the HTML content\n",
    "response = requests.get(url)\n",
    "html_content = response.content\n",
    "\n",
    "# Parse the HTML content using BeautifulSoup\n",
    "soup = BeautifulSoup(html_content, 'html.parser')\n",
    "\n",
    "# Find all the ratings and reviews\n",
    "ratings_div = soup.find_all(\"div\", {\"class\": \"Rating__RatingContainer-sc-1rhvpxz-0\"})\n",
    "reviews_div = soup.find_all(\"div\", {\"class\": \"Comments__StyledComments-dzzyvm-0\"})\n",
    "\n",
    "# Create a CSV file and write the ratings and reviews to it\n",
    "soup.prettify()\n",
    "with open('professor_ratings.csv', mode='a', newline='', encoding='utf-8-sig') as file:\n",
    "    writer = csv.writer(file)\n",
    "    writer.writerow(['Rating', 'Review'])\n",
    "\n",
    "    for rating, review in zip(ratings_div, reviews_div):\n",
    "        rating_value = rating.find(\"div\", {\"class\": \"RatingValue__Numerator-qw8sqy-2\"}).get_text(strip=True)\n",
    "        review_text = review.find(\"p\", {\"class\": \"Comments__StyledComments-dzzyvm-0 etbuMB\"}).get_text(strip=True)\n",
    "        print(rating_value, review_text)\n",
    "        writer.writerow([rating_value, review_text])"
   ]
  },
  {
   "cell_type": "code",
   "execution_count": 23,
   "id": "2ebadfd2",
   "metadata": {},
   "outputs": [
    {
     "name": "stdout",
     "output_type": "stream",
     "text": [
      "Number of ratings: 0\n",
      "Number of reviews: 20\n"
     ]
    }
   ],
   "source": [
    "print(\"Number of ratings:\", len(ratings_div))\n",
    "print(\"Number of reviews:\", len(reviews_div))"
   ]
  },
  {
   "cell_type": "code",
   "execution_count": 1,
   "id": "e9df5be0",
   "metadata": {},
   "outputs": [
    {
     "ename": "AttributeError",
     "evalue": "'NoneType' object has no attribute 'text'",
     "output_type": "error",
     "traceback": [
      "\u001b[0;31m---------------------------------------------------------------------------\u001b[0m",
      "\u001b[0;31mAttributeError\u001b[0m                            Traceback (most recent call last)",
      "Cell \u001b[0;32mIn[1], line 10\u001b[0m\n\u001b[1;32m      7\u001b[0m \u001b[38;5;28;01mfrom\u001b[39;00m \u001b[38;5;21;01mbs4\u001b[39;00m \u001b[38;5;28;01mimport\u001b[39;00m BeautifulSoup\n\u001b[1;32m      9\u001b[0m soup \u001b[38;5;241m=\u001b[39m BeautifulSoup(html, \u001b[38;5;124m'\u001b[39m\u001b[38;5;124mhtml.parser\u001b[39m\u001b[38;5;124m'\u001b[39m)\n\u001b[0;32m---> 10\u001b[0m prof_name \u001b[38;5;241m=\u001b[39m \u001b[43msoup\u001b[49m\u001b[38;5;241;43m.\u001b[39;49m\u001b[43mfind\u001b[49m\u001b[43m(\u001b[49m\u001b[38;5;124;43m'\u001b[39;49m\u001b[38;5;124;43mh1\u001b[39;49m\u001b[38;5;124;43m'\u001b[39;49m\u001b[43m,\u001b[49m\u001b[43m \u001b[49m\u001b[43mclass_\u001b[49m\u001b[38;5;241;43m=\u001b[39;49m\u001b[38;5;124;43m'\u001b[39;49m\u001b[38;5;124;43mprofessor-name\u001b[39;49m\u001b[38;5;124;43m'\u001b[39;49m\u001b[43m)\u001b[49m\u001b[38;5;241;43m.\u001b[39;49m\u001b[43mtext\u001b[49m\u001b[38;5;241m.\u001b[39mstrip()\n\u001b[1;32m     11\u001b[0m rating \u001b[38;5;241m=\u001b[39m soup\u001b[38;5;241m.\u001b[39mfind(\u001b[38;5;124m'\u001b[39m\u001b[38;5;124mdiv\u001b[39m\u001b[38;5;124m'\u001b[39m, class_\u001b[38;5;241m=\u001b[39m\u001b[38;5;124m'\u001b[39m\u001b[38;5;124mRatingValue__Numerator-qw8sqy-2\u001b[39m\u001b[38;5;124m'\u001b[39m)\u001b[38;5;241m.\u001b[39mtext\u001b[38;5;241m.\u001b[39mstrip()\n",
      "\u001b[0;31mAttributeError\u001b[0m: 'NoneType' object has no attribute 'text'"
     ]
    }
   ],
   "source": [
    "import requests\n",
    "\n",
    "url = 'https://www.ratemyprofessors.com/ShowRatings.jsp?tid=12345'\n",
    "response = requests.get(url)\n",
    "html = response.content\n",
    "\n",
    "from bs4 import BeautifulSoup\n",
    "\n",
    "soup = BeautifulSoup(html, 'html.parser')\n",
    "prof_name = soup.find('h1', class_='professor-name').text.strip()\n",
    "rating = soup.find('div', class_='RatingValue__Numerator-qw8sqy-2').text.strip()"
   ]
  },
  {
   "cell_type": "code",
   "execution_count": null,
   "id": "ab375f0e",
   "metadata": {},
   "outputs": [],
   "source": []
  }
 ],
 "metadata": {
  "kernelspec": {
   "display_name": "Python 3 (ipykernel)",
   "language": "python",
   "name": "python3"
  },
  "language_info": {
   "codemirror_mode": {
    "name": "ipython",
    "version": 3
   },
   "file_extension": ".py",
   "mimetype": "text/x-python",
   "name": "python",
   "nbconvert_exporter": "python",
   "pygments_lexer": "ipython3",
   "version": "3.10.1"
  }
 },
 "nbformat": 4,
 "nbformat_minor": 5
}
